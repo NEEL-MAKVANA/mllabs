{
  "nbformat": 4,
  "nbformat_minor": 0,
  "metadata": {
    "colab": {
      "provenance": []
    },
    "kernelspec": {
      "name": "python3",
      "display_name": "Python 3"
    },
    "language_info": {
      "name": "python"
    }
  },
  "cells": [
    {
      "cell_type": "code",
      "execution_count": null,
      "metadata": {
        "id": "5XQbj3tamgxn"
      },
      "outputs": [],
      "source": [
        "# Import Libraries\n",
        "import matplotlib.pyplot as plt\n",
        "import numpy as np\n",
        "import pandas as pd\n",
        "import torch\n",
        "import torch.nn as nn\n",
        "from torch.autograd import Variable\n",
        "from torch.utils.data import DataLoader\n",
        "import tensorflow\n",
        "from sklearn.model_selection import train_test_split\n",
        "# from torch import jit\n",
        "# Used for one hot encoding.\n",
        "from keras.utils import to_categorical"
      ]
    },
    {
      "cell_type": "code",
      "source": [
        "from keras.datasets import mnist\n",
        "(X_train, y_train), (X_test, y_test) = mnist.load_data()\n",
        "# Splitted in train and test samples.\n",
        "print(\"This is for the X-train  \", X_train.shape)\n",
        "print(\"This is for the X-test : \", X_test.shape)\n",
        "print(\"This is for the y-train  \", y_train.shape)\n",
        "print(\"This is for the y-test : \", y_test.shape)"
      ],
      "metadata": {
        "colab": {
          "base_uri": "https://localhost:8080/"
        },
        "id": "bl8E6JEfrP9Q",
        "outputId": "985ff1f3-d309-4872-c957-199810c570e0"
      },
      "execution_count": null,
      "outputs": [
        {
          "output_type": "stream",
          "name": "stdout",
          "text": [
            "This is for the X-train   (60000, 28, 28)\n",
            "This is for the X-test :  (10000, 28, 28)\n",
            "This is for the y-train   (60000,)\n",
            "This is for the y-test :  (10000,)\n"
          ]
        }
      ]
    },
    {
      "cell_type": "code",
      "source": [
        "# Display some images\n",
        "fig, axes = plt.subplots(ncols=5, sharex=False, \n",
        "    sharey=True, figsize=(10, 4))\n",
        "for i in range(5):\n",
        "  # Displaying the title.\n",
        "    axes[i].set_title(y_train[i])\n",
        "    # To display the title.\n",
        "    axes[i].imshow(X_train[i], cmap='gray')\n",
        "    axes[i].get_xaxis().set_visible(False)\n",
        "    axes[i].get_yaxis().set_visible(False)\n",
        "plt.show()"
      ],
      "metadata": {
        "colab": {
          "base_uri": "https://localhost:8080/",
          "height": 143
        },
        "id": "Lh_vQ1z-sTuu",
        "outputId": "ad67e362-8a32-4b03-f3c7-f0192b651aed"
      },
      "execution_count": null,
      "outputs": [
        {
          "output_type": "display_data",
          "data": {
            "text/plain": [
              "<Figure size 720x288 with 5 Axes>"
            ],
            "image/png": "[encoded data removed]"
          },
          "metadata": {
            "needs_background": "light"
          }
        }
      ]
    },
    {
      "cell_type": "code",
      "source": [
        "# Convert y_train into one-hot format \n",
        "temp = []\n",
        "for i in range(len(y_train)):\n",
        "  temp.append(to_categorical(y_train[i], num_classes=10))    \n",
        "y_train = np.array(temp)\n",
        "\n",
        "# Convert y_test into one-hot format\n",
        "temp = []\n",
        "for i in range(len(y_test)):\n",
        "  temp.append(to_categorical(y_test[i], num_classes=10))\n",
        "y_test = np.array(temp)\n",
        "\n",
        "# Check the new shapr of train and test data set.\n",
        "print(y_train.shape)\n",
        "print(y_test.shape)"
      ],
      "metadata": {
        "colab": {
          "base_uri": "https://localhost:8080/"
        },
        "id": "0IbxkOc6tFMt",
        "outputId": "a9b662a9-77ad-4712-960c-ec37db6c0e67"
      },
      "execution_count": null,
      "outputs": [
        {
          "output_type": "stream",
          "name": "stdout",
          "text": [
            "(60000, 10)\n",
            "(10000, 10)\n"
          ]
        }
      ]
    },
    {
      "cell_type": "code",
      "source": [
        "from keras.layers import Dense, Flatten\n",
        "from keras.models import Sequential\n",
        "# Create simple Neural Network model\n",
        "model = Sequential()\n",
        "model.add(Flatten(input_shape=(28,28)))\n",
        "model.add(Dense(5, activation='relu'))\n",
        "model.add(Dense(50, activation='softmax'))\n",
        "model.add(Dense(23, activation='softmax'))\n",
        "model.add(Dense(10, activation='sigmoid'))\n",
        "model.add(Dense(37, activation='relu'))\n",
        "model.add(Dense(45, activation='tanh'))\n",
        "model.add(Dense(10, activation='softmax'))\n",
        "# We can also use the code below in order to see the details of our architecture:\n",
        "model.summary()"
      ],
      "metadata": {
        "colab": {
          "base_uri": "https://localhost:8080/"
        },
        "id": "5V2Cj9I3uQi-",
        "outputId": "c4c8c251-e318-4c2c-ca5b-eb021e7c5272"
      },
      "execution_count": null,
      "outputs": [
        {
          "output_type": "stream",
          "name": "stdout",
          "text": [
            "Model: \"sequential_5\"\n",
            "_________________________________________________________________\n",
            " Layer (type)                Output Shape              Param #   \n",
            "=================================================================\n",
            " flatten_5 (Flatten)         (None, 784)               0         \n",
            "                                                                 \n",
            " dense_16 (Dense)            (None, 5)                 3925      \n",
            "                                                                 \n",
            " dense_17 (Dense)            (None, 50)                300       \n",
            "                                                                 \n",
            " dense_18 (Dense)            (None, 23)                1173      \n",
            "                                                                 \n",
            " dense_19 (Dense)            (None, 10)                240       \n",
            "                                                                 \n",
            " dense_20 (Dense)            (None, 37)                407       \n",
            "                                                                 \n",
            " dense_21 (Dense)            (None, 45)                1710      \n",
            "                                                                 \n",
            " dense_22 (Dense)            (None, 10)                460       \n",
            "                                                                 \n",
            "=================================================================\n",
            "Total params: 8,215\n",
            "Trainable params: 8,215\n",
            "Non-trainable params: 0\n",
            "_________________________________________________________________\n"
          ]
        }
      ]
    },
    {
      "cell_type": "code",
      "source": [
        "model.compile(optimizer='adam', loss='categorical_crossentropy',metrics=['acc'])\n",
        "# Train the Neural Network model\n",
        "model.fit(X_train, y_train, epochs=35, validation_data=(X_test,y_test))"
      ],
      "metadata": {
        "colab": {
          "base_uri": "https://localhost:8080/"
        },
        "id": "XkbFxdRpwM1k",
        "outputId": "7adb49c6-fdb8-4ce8-81d5-798a8ba0b73e"
      },
      "execution_count": null,
      "outputs": [
        {
          "output_type": "stream",
          "name": "stdout",
          "text": [
            "Epoch 1/35\n",
            "1875/1875 [==============================] - 8s 3ms/step - loss: 1.8280 - acc: 0.2287 - val_loss: 1.6072 - val_acc: 0.2875\n",
            "Epoch 2/35\n",
            "1875/1875 [==============================] - 5s 3ms/step - loss: 1.5608 - acc: 0.2907 - val_loss: 1.5130 - val_acc: 0.3614\n",
            "Epoch 3/35\n",
            "1875/1875 [==============================] - 5s 3ms/step - loss: 1.4003 - acc: 0.3693 - val_loss: 1.3105 - val_acc: 0.3879\n",
            "Epoch 4/35\n",
            "1875/1875 [==============================] - 6s 3ms/step - loss: 1.2762 - acc: 0.4269 - val_loss: 1.1893 - val_acc: 0.4544\n",
            "Epoch 5/35\n",
            "1875/1875 [==============================] - 6s 3ms/step - loss: 1.1657 - acc: 0.4557 - val_loss: 1.1334 - val_acc: 0.4897\n",
            "Epoch 6/35\n",
            "1875/1875 [==============================] - 6s 3ms/step - loss: 1.1482 - acc: 0.4627 - val_loss: 1.1079 - val_acc: 0.4742\n",
            "Epoch 7/35\n",
            "1875/1875 [==============================] - 5s 3ms/step - loss: 1.1005 - acc: 0.5172 - val_loss: 1.0598 - val_acc: 0.5353\n",
            "Epoch 8/35\n",
            "1875/1875 [==============================] - 8s 4ms/step - loss: 1.0504 - acc: 0.5300 - val_loss: 1.0070 - val_acc: 0.5548\n",
            "Epoch 9/35\n",
            "1875/1875 [==============================] - 5s 3ms/step - loss: 1.0363 - acc: 0.5442 - val_loss: 1.0345 - val_acc: 0.5383\n",
            "Epoch 10/35\n",
            "1875/1875 [==============================] - 6s 3ms/step - loss: 1.0373 - acc: 0.5502 - val_loss: 0.9847 - val_acc: 0.5543\n",
            "Epoch 11/35\n",
            "1875/1875 [==============================] - 6s 3ms/step - loss: 1.0153 - acc: 0.5545 - val_loss: 1.0574 - val_acc: 0.5543\n",
            "Epoch 12/35\n",
            "1875/1875 [==============================] - 7s 4ms/step - loss: 1.0234 - acc: 0.5624 - val_loss: 1.0029 - val_acc: 0.5607\n",
            "Epoch 13/35\n",
            "1875/1875 [==============================] - 6s 3ms/step - loss: 1.0067 - acc: 0.5714 - val_loss: 0.9908 - val_acc: 0.5844\n",
            "Epoch 14/35\n",
            "1875/1875 [==============================] - 7s 4ms/step - loss: 1.0120 - acc: 0.5582 - val_loss: 0.9809 - val_acc: 0.5856\n",
            "Epoch 15/35\n",
            "1875/1875 [==============================] - 6s 3ms/step - loss: 0.9851 - acc: 0.5786 - val_loss: 0.9601 - val_acc: 0.5800\n",
            "Epoch 16/35\n",
            "1875/1875 [==============================] - 7s 4ms/step - loss: 0.9978 - acc: 0.5800 - val_loss: 0.9864 - val_acc: 0.5427\n",
            "Epoch 17/35\n",
            "1875/1875 [==============================] - 6s 3ms/step - loss: 0.9884 - acc: 0.5896 - val_loss: 1.0306 - val_acc: 0.5719\n",
            "Epoch 18/35\n",
            "1875/1875 [==============================] - 7s 3ms/step - loss: 1.0123 - acc: 0.5782 - val_loss: 0.9746 - val_acc: 0.6024\n",
            "Epoch 19/35\n",
            "1875/1875 [==============================] - 5s 3ms/step - loss: 1.0144 - acc: 0.5798 - val_loss: 1.1203 - val_acc: 0.5120\n",
            "Epoch 20/35\n",
            "1875/1875 [==============================] - 6s 3ms/step - loss: 1.0326 - acc: 0.5760 - val_loss: 0.9742 - val_acc: 0.5897\n",
            "Epoch 21/35\n",
            "1875/1875 [==============================] - 5s 3ms/step - loss: 0.9733 - acc: 0.5823 - val_loss: 0.9494 - val_acc: 0.5915\n",
            "Epoch 22/35\n",
            "1875/1875 [==============================] - 6s 3ms/step - loss: 0.9790 - acc: 0.5817 - val_loss: 0.9883 - val_acc: 0.5877\n",
            "Epoch 23/35\n",
            "1875/1875 [==============================] - 5s 3ms/step - loss: 0.9881 - acc: 0.5834 - val_loss: 0.9726 - val_acc: 0.5712\n",
            "Epoch 24/35\n",
            "1875/1875 [==============================] - 5s 3ms/step - loss: 0.9860 - acc: 0.5979 - val_loss: 0.9517 - val_acc: 0.6498\n",
            "Epoch 25/35\n",
            "1875/1875 [==============================] - 6s 3ms/step - loss: 0.9099 - acc: 0.6617 - val_loss: 0.8972 - val_acc: 0.6582\n",
            "Epoch 26/35\n",
            "1875/1875 [==============================] - 5s 3ms/step - loss: 0.9144 - acc: 0.6446 - val_loss: 0.9807 - val_acc: 0.6107\n",
            "Epoch 27/35\n",
            "1875/1875 [==============================] - 6s 3ms/step - loss: 0.9517 - acc: 0.6268 - val_loss: 0.9511 - val_acc: 0.6353\n",
            "Epoch 28/35\n",
            "1875/1875 [==============================] - 5s 3ms/step - loss: 0.9955 - acc: 0.5935 - val_loss: 0.9800 - val_acc: 0.6069\n",
            "Epoch 29/35\n",
            "1875/1875 [==============================] - 6s 3ms/step - loss: 0.9711 - acc: 0.6128 - val_loss: 0.9661 - val_acc: 0.6176\n",
            "Epoch 30/35\n",
            "1875/1875 [==============================] - 5s 3ms/step - loss: 0.9482 - acc: 0.6136 - val_loss: 0.9467 - val_acc: 0.5977\n",
            "Epoch 31/35\n",
            "1875/1875 [==============================] - 6s 3ms/step - loss: 0.9829 - acc: 0.6055 - val_loss: 0.9386 - val_acc: 0.6053\n",
            "Epoch 32/35\n",
            "1875/1875 [==============================] - 6s 3ms/step - loss: 0.9808 - acc: 0.5944 - val_loss: 1.0095 - val_acc: 0.5952\n",
            "Epoch 33/35\n",
            "1875/1875 [==============================] - 6s 3ms/step - loss: 0.9722 - acc: 0.6045 - val_loss: 0.9778 - val_acc: 0.5918\n",
            "Epoch 34/35\n",
            "1875/1875 [==============================] - 5s 3ms/step - loss: 0.9727 - acc: 0.6016 - val_loss: 0.9796 - val_acc: 0.5966\n",
            "Epoch 35/35\n",
            "1875/1875 [==============================] - 6s 3ms/step - loss: 0.9978 - acc: 0.6062 - val_loss: 0.9816 - val_acc: 0.6038\n"
          ]
        },
        {
          "output_type": "execute_result",
          "data": {
            "text/plain": [
              "<keras.callbacks.History at 0x7fc7d621bc70>"
            ]
          },
          "metadata": {},
          "execution_count": 42
        }
      ]
    },
    {
      "cell_type": "code",
      "source": [
        "# Making predictions using our trained model\n",
        "predictions = model.predict(X_test)\n",
        "predictions = np.argmax(predictions, axis=1)\n",
        "\n",
        "# Display some predictions on test data\n",
        "fig, axes = plt.subplots(ncols=10, sharex=False,\n",
        "\t\t\t sharey=True, figsize=(20, 4))\n",
        "for i in range(10):\n",
        "  axes[i].set_title(predictions[i])\n",
        "  axes[i].imshow(X_test[i], cmap='gray')\n",
        "  axes[i].get_xaxis().set_visible(False)\n",
        "  axes[i].get_yaxis().set_visible(False)\n",
        "\n",
        "plt.show()"
      ],
      "metadata": {
        "colab": {
          "base_uri": "https://localhost:8080/",
          "height": 158
        },
        "id": "IlvpXI6cyBIs",
        "outputId": "70fb5f93-40cc-4807-b10a-0be09ce5bf07"
      },
      "execution_count": null,
      "outputs": [
        {
          "output_type": "stream",
          "name": "stdout",
          "text": [
            "313/313 [==============================] - 1s 2ms/step\n"
          ]
        },
        {
          "output_type": "display_data",
          "data": {
            "text/plain": [
              "<Figure size 1440x288 with 10 Axes>"
            ],
            "image/png": "[encoded data removed]"
          },
          "metadata": {
            "needs_background": "light"
          }
        }
      ]
    }
  ]
}